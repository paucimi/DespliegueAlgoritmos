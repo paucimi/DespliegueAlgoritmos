{
 "cells": [
  {
   "cell_type": "code",
   "execution_count": 57,
   "metadata": {},
   "outputs": [
    {
     "name": "stdout",
     "output_type": "stream",
     "text": [
      "Overwriting main1.py\n"
     ]
    }
   ],
   "source": [
    "%%writefile main1.py\n",
    "from fastapi import FastAPI\n",
    "from pydantic import BaseModel\n",
    "from typing import Optional\n",
    "from transformers import pipeline\n",
    "\n",
    "#Definir pipelines de Hugging Face\n",
    "sentiment = pipeline(\"sentiment-analysis\")\n",
    "text_gen = pipeline(\"text-generation\", model=\"distilgpt2\")\n",
    "\n",
    "# Crear la aplicación FastAPI\n",
    "app = FastAPI()\n",
    "\n",
    "class Identity(BaseModel):\n",
    "    name: str\n",
    "    surname: Optional[str] = None\n",
    "\n",
    "\n",
    "@app.get(\"/hello\")\n",
    "def root():\n",
    "    return {\"message\": \"¡Hola! Bienvenido a la API de ejemplo.\"}\n",
    "\n",
    "@app.post('/test-pydantic')  \n",
    "def test_pydantic(id: Identity):\n",
    "    if id.surname is None:\n",
    "        message = f'Bienvenido a mi API {id.name}'\n",
    "    else:\n",
    "        message = f'Bienvenido a mi API {id.name} {id.surname}'\n",
    "    return {\"message\": message}\n",
    "\n",
    "@app.get(\"/ping\")\n",
    "def ping():\n",
    "    return {\"message\": \"pong\"}\n",
    "\n",
    "@app.get(\"/penguins\")\n",
    "def read_penguins():\n",
    "    df = pd.read_csv(\"https://raw.githubusercontent.com/mwaskom/seaborn-data/master/penguins.csv\")\n",
    "    return {\"data\": df.head(5).to_dict()}\n",
    "\n",
    "@app.get(\"/sentiment\")\n",
    "def analyze_sentiment(text: str):\n",
    "    result = sentiment(text)\n",
    "    return {\"text\": text, \"analysis\": result[0]}\n",
    "\n",
    "@app.get(\"/text-generation\")\n",
    "def generate_text(prompt: str, max_length: int = 30):\n",
    "    result = text_gen(prompt, max_length=max_length, num_return_sequences=1)\n",
    "    return {\"prompt\": prompt, \"generated_text\": result[0][\"generated_text\"]}\n",
    "\n"
   ]
  },
  {
   "cell_type": "code",
   "execution_count": 55,
   "metadata": {},
   "outputs": [
    {
     "name": "stdout",
     "output_type": "stream",
     "text": [
      "Requirement already satisfied: pydantic in c:\\users\\pauci\\miniconda3\\envs\\bd14-despliegue-algo\\lib\\site-packages (2.10.3)\n",
      "Requirement already satisfied: annotated-types>=0.6.0 in c:\\users\\pauci\\miniconda3\\envs\\bd14-despliegue-algo\\lib\\site-packages (from pydantic) (0.7.0)\n",
      "Requirement already satisfied: pydantic-core==2.27.1 in c:\\users\\pauci\\miniconda3\\envs\\bd14-despliegue-algo\\lib\\site-packages (from pydantic) (2.27.1)\n",
      "Requirement already satisfied: typing-extensions>=4.12.2 in c:\\users\\pauci\\miniconda3\\envs\\bd14-despliegue-algo\\lib\\site-packages (from pydantic) (4.12.2)\n"
     ]
    }
   ],
   "source": [
    "!pip install pydantic"
   ]
  }
 ],
 "metadata": {
  "kernelspec": {
   "display_name": "bd14-despliegue-algo",
   "language": "python",
   "name": "python3"
  },
  "language_info": {
   "codemirror_mode": {
    "name": "ipython",
    "version": 3
   },
   "file_extension": ".py",
   "mimetype": "text/x-python",
   "name": "python",
   "nbconvert_exporter": "python",
   "pygments_lexer": "ipython3",
   "version": "3.11.10"
  }
 },
 "nbformat": 4,
 "nbformat_minor": 2
}
